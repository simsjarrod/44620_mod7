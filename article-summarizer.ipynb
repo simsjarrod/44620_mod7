{
 "cells": [
  {
   "cell_type": "markdown",
   "metadata": {},
   "source": [
    "# Web Mining and Applied NLP (44-620)\n",
    "\n",
    "## Final Project: Article Summarizer\n",
    "\n",
    "### Student Name: Jarrod Sims\n",
    "\n",
    "Perform the tasks described in the Markdown cells below.  When you have completed the assignment make sure your code cells have all been run (and have output beneath them) and ensure you have committed and pushed ALL of your changes to your assignment repository.\n",
    "\n",
    "You should bring in code from previous assignments to help you answer the questions below.\n",
    "\n",
    "Every question that requires you to write code will have a code cell underneath it; you may either write your entire solution in that cell or write it in a python file (`.py`), then import and run the appropriate code to answer the question."
   ]
  },
  {
   "cell_type": "markdown",
   "metadata": {},
   "source": [
    "1. Find on the internet an article or blog post about a topic that interests you and you are able to get the text for using the technologies we have applied in the course.  Get the html for the article and store it in a file (which you must submit with your project)"
   ]
  },
  {
   "cell_type": "code",
   "execution_count": 21,
   "metadata": {},
   "outputs": [
    {
     "name": "stdout",
     "output_type": "stream",
     "text": [
      "Article printed to pickle\n",
      "Article printed to pickle\n",
      "Article printed to pickle\n"
     ]
    }
   ],
   "source": [
    "import requests\n",
    "import pickle\n",
    "import spacy\n",
    "from bs4 import BeautifulSoup\n",
    "parser = 'html.parser'\n",
    "\n",
    "article_page = requests.get('https://www.thedailybeast.com/judge-aileen-cannon-comes-out-swinging-in-trumps-favor-again-in-classified-docs-case?ref=home')\n",
    "html_content = article_page.text\n",
    "soup = BeautifulSoup(html_content, \"html.parser\")\n",
    "article = soup.find(\"article\")\n",
    "\n",
    "with open (\"FarLeft_DailyBeast.pkl\", \"wb\") as file:\n",
    "    pickle.dump(str(article),file)\n",
    "    print('Article printed to pickle')\n",
    "\n",
    "article_page = requests.get('https://www.breitbart.com/politics/2023/08/09/january-6-committee-destroyed-records-videos-trump-rights-violated/')\n",
    "html_content = article_page.text\n",
    "soup = BeautifulSoup(html_content, \"html.parser\")\n",
    "article = soup.find(\"article\")\n",
    "\n",
    "with open (\"FarRight_Breitbart.pkl\", \"wb\") as file:\n",
    "    pickle.dump(str(article),file)\n",
    "    print('Article printed to pickle')\n",
    "\n",
    "\n",
    "article_page = requests.get('https://apnews.com/article/abortion-rights-ohio-election-constitution-special-interests-06217130060cd97d398169052b6d511a')\n",
    "html_content = article_page.text\n",
    "soup = BeautifulSoup(html_content, \"html.parser\")\n",
    "article = soup.find(\"article\")\n",
    "\n",
    "with open (\"Moderate_AP.pkl\", \"wb\") as file:\n",
    "    pickle.dump(str(article),file)\n",
    "    print('Article printed to pickle')"
   ]
  },
  {
   "cell_type": "markdown",
   "metadata": {},
   "source": [
    "2. Read in your article's html source from the file you created in question 1 and do sentiment analysis on the article/post's text (use `.get_text()`).  Print the polarity score with an appropriate label.  Additionally print the number of sentences in the original article (with an appropriate label)"
   ]
  },
  {
   "cell_type": "code",
   "execution_count": 38,
   "metadata": {},
   "outputs": [
    {
     "name": "stdout",
     "output_type": "stream",
     "text": [
      "Far left article polarity score: 0.08225665748393021\n",
      "Far right article polarity score: 0.03247542283686862\n",
      "Moderate article Polarity score: 0.06926458462172745\n"
     ]
    }
   ],
   "source": [
    "#### Far Left Polarity Score ####\n",
    "with open(\"FarLeft_DailyBeast.pkl\", \"rb\") as file:\n",
    "    html_text = pickle.load(file)\n",
    "\n",
    "soup = BeautifulSoup(html_text, \"html.parser\")\n",
    "text = soup.get_text()\n",
    "\n",
    "\n",
    "def remove_empty_lines(text):\n",
    "    lines = text.split(\"\\n\")\n",
    "    non_empty_lines = [line.strip() for line in lines if line.strip()]\n",
    "    return \"\\n\".join(non_empty_lines)\n",
    "\n",
    "cleaned_text_left = remove_empty_lines(text)\n",
    "\n",
    "nlp = spacy.load(\"en_core_web_sm\")\n",
    "nlp.add_pipe('spacytextblob')\n",
    "doc = nlp(cleaned_text_left)\n",
    "polarity = doc._.polarity\n",
    "print(\"Far left article polarity score:\", polarity)\n",
    "\n",
    "#### Far Right Polarity Score ####\n",
    "with open(\"FarRight_Breitbart.pkl\", \"rb\") as file:\n",
    "    html_text = pickle.load(file)\n",
    "\n",
    "soup = BeautifulSoup(html_text, \"html.parser\")\n",
    "text = soup.get_text()\n",
    "\n",
    "\n",
    "def remove_empty_lines(text):\n",
    "    lines = text.split(\"\\n\")\n",
    "    non_empty_lines = [line.strip() for line in lines if line.strip()]\n",
    "    return \"\\n\".join(non_empty_lines)\n",
    "\n",
    "cleaned_text_right = remove_empty_lines(text)\n",
    "\n",
    "nlp = spacy.load(\"en_core_web_sm\")\n",
    "nlp.add_pipe('spacytextblob')\n",
    "doc = nlp(cleaned_text_right)\n",
    "polarity = doc._.polarity\n",
    "print(\"Far right article polarity score:\", polarity)\n",
    "\n",
    "#### Moderate Polarity Score ####\n",
    "with open(\"Moderate_AP.pkl\", \"rb\") as file:\n",
    "    html_text = pickle.load(file)\n",
    "\n",
    "soup = BeautifulSoup(html_text, \"html.parser\")\n",
    "text = soup.get_text()\n",
    "\n",
    "\n",
    "def remove_empty_lines(text):\n",
    "    lines = text.split(\"\\n\")\n",
    "    non_empty_lines = [line.strip() for line in lines if line.strip()]\n",
    "    return \"\\n\".join(non_empty_lines)\n",
    "\n",
    "cleaned_text_mod = remove_empty_lines(text)\n",
    "\n",
    "nlp = spacy.load(\"en_core_web_sm\")\n",
    "nlp.add_pipe('spacytextblob')\n",
    "doc = nlp(cleaned_text_mod)\n",
    "polarity = doc._.polarity\n",
    "print(\"Moderate article Polarity score:\", polarity)\n"
   ]
  },
  {
   "cell_type": "markdown",
   "metadata": {},
   "source": [
    "3. Load the article text into a trained `spaCy` pipeline, and determine the 5 most frequent tokens (converted to lower case).  Print the common tokens with an appropriate label.  Additionally, print the tokens their frequencies (with appropriate labels)"
   ]
  },
  {
   "cell_type": "code",
   "execution_count": 49,
   "metadata": {},
   "outputs": [
    {
     "name": "stdout",
     "output_type": "stream",
     "text": [
      "The most common words in the far left article are: [('Cannon', 16), ('Trump', 10), ('jury', 9), ('case', 6), ('grand', 5)]\n",
      "The most common words in the far right article are: [('committee', 23), ('House', 12), ('Capitol', 8), ('Thompson', 8), ('evidence', 7)]\n",
      "The most common words in the moderate article are: [('Ohio', 51), ('abortion', 41), ('AP', 38), ('1', 34), ('Issue', 34)]\n"
     ]
    }
   ],
   "source": [
    "import spacy \n",
    "\n",
    "#### Far Left Tokens ####\n",
    "nlp = spacy.load('en_core_web_sm')\n",
    "doc_left = nlp(cleaned_text_left)\n",
    "\n",
    "non_ws_tokens = []\n",
    "for token in doc_left:\n",
    "    if not token.is_space:\n",
    "        non_ws_tokens.append(token)\n",
    "#print(non_ws_tokens)\n",
    "\n",
    "def we_care_about(token):\n",
    "    return not (token.is_space or token.is_punct)\n",
    "\n",
    "from collections import Counter\n",
    "def we_care_about(token):\n",
    "    return not (token.is_space or token.is_punct or token.is_stop)\n",
    "\n",
    "interesting_tokens = [token for token in doc_left if we_care_about(token)]\n",
    "word_freq = Counter(map(str,interesting_tokens))\n",
    "print(f\"The most common words in the far left article are: {word_freq.most_common(5)}\")\n",
    "\n",
    "\n",
    "#### Far Right Tokens ####\n",
    "nlp = spacy.load('en_core_web_sm')\n",
    "doc_right = nlp(cleaned_text_right)\n",
    "\n",
    "non_ws_tokens = []\n",
    "for token in doc_right:\n",
    "    if not token.is_space:\n",
    "        non_ws_tokens.append(token)\n",
    "#print(non_ws_tokens)\n",
    "\n",
    "def we_care_about(token):\n",
    "    return not (token.is_space or token.is_punct)\n",
    "\n",
    "from collections import Counter\n",
    "def we_care_about(token):\n",
    "    return not (token.is_space or token.is_punct or token.is_stop)\n",
    "\n",
    "interesting_tokens = [token for token in doc_right if we_care_about(token)]\n",
    "word_freq = Counter(map(str,interesting_tokens))\n",
    "print(f\"The most common words in the far right article are: {word_freq.most_common(5)}\")\n",
    "\n",
    "#### Moderate Tokens ####\n",
    "nlp = spacy.load('en_core_web_sm')\n",
    "doc_mod = nlp(cleaned_text_mod)\n",
    "\n",
    "non_ws_tokens = []\n",
    "for token in doc_mod:\n",
    "    if not token.is_space:\n",
    "        non_ws_tokens.append(token)\n",
    "#print(non_ws_tokens)\n",
    "\n",
    "def we_care_about(token):\n",
    "    return not (token.is_space or token.is_punct)\n",
    "\n",
    "from collections import Counter\n",
    "def we_care_about(token):\n",
    "    return not (token.is_space or token.is_punct or token.is_stop)\n",
    "\n",
    "interesting_tokens = [token for token in doc_mod if we_care_about(token)]\n",
    "word_freq = Counter(map(str,interesting_tokens))\n",
    "print(f\"The most common words in the moderate article are: {word_freq.most_common(5)}\")"
   ]
  },
  {
   "cell_type": "markdown",
   "metadata": {},
   "source": [
    "4. Load the article text into a trained `spaCy` pipeline, and determine the 5 most frequent lemmas (converted to lower case).  Print the common lemmas with an appropriate label.  Additionally, print the lemmas with their frequencies (with appropriate labels)."
   ]
  },
  {
   "cell_type": "code",
   "execution_count": 51,
   "metadata": {},
   "outputs": [
    {
     "name": "stdout",
     "output_type": "stream",
     "text": [
      "Five Most Common Words in the Far Left Article:\n",
      "-----------------\n",
      "Cannon: 15\n",
      "Trump: 9\n",
      "jury: 9\n",
      "case: 6\n",
      "prosecutor: 6\n",
      "Five Most Common Words in the Far Right Article:\n",
      "-----------------\n",
      "committee: 23\n",
      "House: 12\n",
      "preserve: 8\n",
      "Capitol: 8\n",
      "Thompson: 8\n",
      "Five Most Common Words in the Moderate Article:\n",
      "-----------------\n",
      "Ohio: 51\n",
      "abortion: 43\n",
      "AP: 38\n",
      "1: 34\n",
      "Issue: 31\n"
     ]
    }
   ],
   "source": [
    "#### Far Left Lemmas ####\n",
    "interesting_lemmas = [token.lemma_ for token in doc_left if we_care_about(token)]\n",
    "lemma_freq = Counter(interesting_lemmas)\n",
    "\n",
    "def print_word_frequencies(common_words):\n",
    "    print(\"Five Most Common Words in the Far Left Article:\")\n",
    "    print(\"-----------------\")\n",
    "    for word, frequency in common_words:\n",
    "        print(f\"{word}: {frequency}\")\n",
    "\n",
    "common_words = lemma_freq.most_common(5)\n",
    "\n",
    "print_word_frequencies(common_words)\n",
    "\n",
    "#### Far Right Lemmas ####\n",
    "interesting_lemmas = [token.lemma_ for token in doc_right if we_care_about(token)]\n",
    "lemma_freq = Counter(interesting_lemmas)\n",
    "\n",
    "def print_word_frequencies(common_words):\n",
    "    print(\"Five Most Common Words in the Far Right Article:\")\n",
    "    print(\"-----------------\")\n",
    "    for word, frequency in common_words:\n",
    "        print(f\"{word}: {frequency}\")\n",
    "\n",
    "common_words = lemma_freq.most_common(5)\n",
    "\n",
    "print_word_frequencies(common_words)\n",
    "\n",
    "#### Far Left Lemmas ####\n",
    "interesting_lemmas = [token.lemma_ for token in doc_mod if we_care_about(token)]\n",
    "lemma_freq = Counter(interesting_lemmas)\n",
    "\n",
    "def print_word_frequencies(common_words):\n",
    "    print(\"Five Most Common Words in the Moderate Article:\")\n",
    "    print(\"-----------------\")\n",
    "    for word, frequency in common_words:\n",
    "        print(f\"{word}: {frequency}\")\n",
    "\n",
    "common_words = lemma_freq.most_common(5)\n",
    "\n",
    "print_word_frequencies(common_words)"
   ]
  },
  {
   "cell_type": "markdown",
   "metadata": {},
   "source": [
    "5. Make a list containing the scores (using tokens) of every sentence in the article, and plot a histogram with appropriate titles and axis labels of the scores. From your histogram, what seems to be the most common range of scores (put the answer in a comment after your code)?"
   ]
  },
  {
   "cell_type": "code",
   "execution_count": 78,
   "metadata": {},
   "outputs": [
    {
     "data": {
      "image/png": "[encoded data removed]",
      "text/plain": [
       "<Figure size 640x480 with 1 Axes>"
      ]
     },
     "metadata": {},
     "output_type": "display_data"
    },
    {
     "data": {
      "image/png": "[encoded data removed]",
      "text/plain": [
       "<Figure size 640x480 with 1 Axes>"
      ]
     },
     "metadata": {},
     "output_type": "display_data"
    },
    {
     "data": {
      "text/plain": [
       "'\\n#### Note I could not get the moderate distribution to work. I was getting a divide by zero error. I think I know why but am out of time to fix at this moment. ####\\n\\n################################\\n#### Moderate Distribution ####\\n################################\\n\\nsentences_mod = extract_sentences(cleaned_text_mod)\\n\\nscores_by_tokens = []\\ninteresting_tokens = [\\'Ohio\\',\\'abortion\\',\\'AP\\',\\'Issue\\']\\n       \\nfor sentence in sentences_mod:\\n    score = score_sentence_by_token(sentence, interesting_tokens)\\n    scores_by_tokens.append(score)\\n\\nplt.hist(scores_by_tokens, color=\\'purple\\', bins=10, edgecolor=\\'black\\')\\nplt.xlabel(\"Token Score\")\\nplt.ylabel(\"Frequencey\")\\nplt.title(\"Moderate Article Distribution of Token Scores\")\\nplt.show()\\n\\n'"
      ]
     },
     "execution_count": 78,
     "metadata": {},
     "output_type": "execute_result"
    }
   ],
   "source": [
    "import spacy\n",
    "import pickle\n",
    "from bs4 import BeautifulSoup \n",
    "import matplotlib.pyplot as plt\n",
    "\n",
    "def remove_stopwords_and_punctuations(tokens):\n",
    "    return [token.lemma_.lower() for token in tokens if not token.is_stop and token.is_alpha]\n",
    "\n",
    "def score_sentence_by_token(sentence, interesting_tokens):\n",
    "    nlp = spacy.load(\"en_core_web_sm\")\n",
    "    doc = nlp(sentence)\n",
    "    clean_tokens = remove_stopwords_and_punctuations(doc)\n",
    "    interesting_token_count = sum(1 for token in clean_tokens if token in interesting_tokens)\n",
    "    score = interesting_token_count / len(clean_tokens)\n",
    "    return score\n",
    "\n",
    "def extract_sentences(cleaned_text_left):\n",
    "    nlp = spacy.load('en_core_web_sm')\n",
    "    doc_left = nlp(cleaned_text_left)\n",
    "    sentences_left = [sent.text for sent in doc_left.sents]\n",
    "\n",
    "    return sentences_left\n",
    "\n",
    "###############################\n",
    "#### Far Left Distribution ####\n",
    "###############################\n",
    "\n",
    "sentences_left = extract_sentences(cleaned_text_left)\n",
    "\n",
    "scores_by_tokens = []\n",
    "interesting_tokens = ['canon','Trump','jury','case','grand']\n",
    "       \n",
    "for sentence in sentences_left:\n",
    "    score = score_sentence_by_token(sentence, interesting_tokens)\n",
    "    scores_by_tokens.append(score)\n",
    "\n",
    "plt.hist(scores_by_tokens, color= 'blue', bins=10, edgecolor='black')\n",
    "plt.xlabel(\"Token Score\")\n",
    "plt.ylabel(\"Frequencey\")\n",
    "plt.title(\"Far Left Article Distribution of Token Scores\")\n",
    "plt.show()\n",
    "\n",
    "################################\n",
    "#### Far Right Distribution ####\n",
    "################################\n",
    "\n",
    "sentences_right = extract_sentences(cleaned_text_right)\n",
    "\n",
    "scores_by_tokens = []\n",
    "interesting_tokens = ['committee','House','preserve','Capitol','Thompson']\n",
    "       \n",
    "for sentence in sentences_right:\n",
    "    score = score_sentence_by_token(sentence, interesting_tokens)\n",
    "    scores_by_tokens.append(score)\n",
    "\n",
    "plt.hist(scores_by_tokens, color='red', bins=10, edgecolor='black')\n",
    "plt.xlabel(\"Token Score\")\n",
    "plt.ylabel(\"Frequencey\")\n",
    "plt.title(\"Far Right Article Distribution of Token Scores\")\n",
    "plt.show()\n",
    "\n",
    "\"\"\"\n",
    "#### Note I could not get the moderate distribution to work. I was getting a divide by zero error. I think I know why but am out of time to fix at this moment. ####\n",
    "\n",
    "################################\n",
    "#### Moderate Distribution ####\n",
    "################################\n",
    "\n",
    "sentences_mod = extract_sentences(cleaned_text_mod)\n",
    "\n",
    "scores_by_tokens = []\n",
    "interesting_tokens = ['Ohio','abortion','AP','Issue']\n",
    "       \n",
    "for sentence in sentences_mod:\n",
    "    score = score_sentence_by_token(sentence, interesting_tokens)\n",
    "    scores_by_tokens.append(score)\n",
    "\n",
    "plt.hist(scores_by_tokens, color='purple', bins=10, edgecolor='black')\n",
    "plt.xlabel(\"Token Score\")\n",
    "plt.ylabel(\"Frequencey\")\n",
    "plt.title(\"Moderate Article Distribution of Token Scores\")\n",
    "plt.show()\n",
    "\n",
    "\"\"\"\n"
   ]
  },
  {
   "cell_type": "markdown",
   "metadata": {},
   "source": [
    "6. Make a list containing the scores (using lemmas) of every sentence in the article, and plot a histogram with appropriate titles and axis labels of the scores.  From your histogram, what seems to be the most common range of scores (put the answer in a comment after your code)?"
   ]
  },
  {
   "cell_type": "code",
   "execution_count": null,
   "metadata": {},
   "outputs": [],
   "source": []
  },
  {
   "cell_type": "markdown",
   "metadata": {},
   "source": [
    "7. Using the histograms from questions 5 and 6, decide a \"cutoff\" score for tokens and lemmas such that fewer than half the sentences would have a score greater than the cutoff score.  Record the scores in this Markdown cell\n",
    "\n",
    "* Cutoff Score (tokens): \n",
    "* Cutoff Score (lemmas):\n",
    "\n",
    "Feel free to change these scores as you generate your summaries.  Ideally, we're shooting for at least 6 sentences for our summary, but don't want more than 10 (these numbers are rough estimates; they depend on the length of your article)."
   ]
  },
  {
   "cell_type": "markdown",
   "metadata": {},
   "source": [
    "8. Create a summary of the article by going through every sentence in the article and adding it to an (initially) empty list if its score (based on tokens) is greater than the cutoff score you identified in question 8.  If your loop variable is named `sent`, you may find it easier to add `sent.text.strip()` to your list of sentences.  Print the summary (I would cleanly generate the summary text by `join`ing the strings in your list together with a space (`' '.join(sentence_list)`)."
   ]
  },
  {
   "cell_type": "code",
   "execution_count": null,
   "metadata": {},
   "outputs": [],
   "source": []
  },
  {
   "cell_type": "markdown",
   "metadata": {},
   "source": [
    "9. Print the polarity score of your summary you generated with the token scores (with an appropriate label). Additionally, print the number of sentences in the summarized article."
   ]
  },
  {
   "cell_type": "code",
   "execution_count": null,
   "metadata": {},
   "outputs": [],
   "source": []
  },
  {
   "cell_type": "markdown",
   "metadata": {},
   "source": [
    "10. Create a summary of the article by going through every sentence in the article and adding it to an (initially) empty list if its score (based on lemmas) is greater than the cutoff score you identified in question 8.  If your loop variable is named `sent`, you may find it easier to add `sent.text.strip()` to your list of sentences.  Print the summary (I would cleanly generate the summary text by `join`ing the strings in your list together with a space (`' '.join(sentence_list)`)."
   ]
  },
  {
   "cell_type": "code",
   "execution_count": null,
   "metadata": {},
   "outputs": [],
   "source": []
  },
  {
   "cell_type": "markdown",
   "metadata": {},
   "source": [
    "11. Print the polarity score of your summary you generated with the lemma scores (with an appropriate label). Additionally, print the number of sentences in the summarized article."
   ]
  },
  {
   "cell_type": "code",
   "execution_count": null,
   "metadata": {},
   "outputs": [],
   "source": []
  },
  {
   "cell_type": "markdown",
   "metadata": {},
   "source": [
    "12.  Compare your polarity scores of your summaries to the polarity scores of the initial article.  Is there a difference?  Why do you think that may or may not be?.  Answer in this Markdown cell.  "
   ]
  },
  {
   "cell_type": "markdown",
   "metadata": {},
   "source": [
    "13. Based on your reading of the original article, which summary do you think is better (if there's a difference).  Why do you think this might be?"
   ]
  }
 ],
 "metadata": {
  "kernelspec": {
   "display_name": "Python 3",
   "language": "python",
   "name": "python3"
  },
  "language_info": {
   "codemirror_mode": {
    "name": "ipython",
    "version": 3
   },
   "file_extension": ".py",
   "mimetype": "text/x-python",
   "name": "python",
   "nbconvert_exporter": "python",
   "pygments_lexer": "ipython3",
   "version": "3.10.9"
  }
 },
 "nbformat": 4,
 "nbformat_minor": 4
}
